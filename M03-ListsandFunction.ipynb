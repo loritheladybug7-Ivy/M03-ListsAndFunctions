{
 "cells": [
  {
   "cell_type": "code",
   "execution_count": 91,
   "id": "b96b9f08-72b6-4f09-bf4b-7b7cec1e14f7",
   "metadata": {},
   "outputs": [
    {
     "data": {
      "text/plain": [
       "['mozzarella', 'cinderella', 'salmonella']"
      ]
     },
     "execution_count": 91,
     "metadata": {},
     "output_type": "execute_result"
    }
   ],
   "source": [
    "# 7.4\n",
    "things = ['mozzarella', 'cinderella', 'salmonella']\n",
    "things"
   ]
  },
  {
   "cell_type": "code",
   "execution_count": 93,
   "id": "1425b122-5bf1-40cb-bd09-7004080a7cb4",
   "metadata": {},
   "outputs": [
    {
     "data": {
      "text/plain": [
       "'Cinderella'"
      ]
     },
     "execution_count": 93,
     "metadata": {},
     "output_type": "execute_result"
    }
   ],
   "source": [
    "# 7.5\n",
    "things[1].capitalize()"
   ]
  },
  {
   "cell_type": "code",
   "execution_count": 95,
   "id": "bf20eae4-b14f-4ea2-975a-1b999dbac436",
   "metadata": {},
   "outputs": [
    {
     "data": {
      "text/plain": [
       "['mozzarella', 'cinderella', 'salmonella']"
      ]
     },
     "execution_count": 95,
     "metadata": {},
     "output_type": "execute_result"
    }
   ],
   "source": [
    "things"
   ]
  },
  {
   "cell_type": "code",
   "execution_count": 97,
   "id": "257746c4-2c31-4803-ab89-fbeab6f5805d",
   "metadata": {},
   "outputs": [
    {
     "data": {
      "text/plain": [
       "['mozzarella', 'Cinderella', 'salmonella']"
      ]
     },
     "execution_count": 97,
     "metadata": {},
     "output_type": "execute_result"
    }
   ],
   "source": [
    "\"\"\"\n",
    "#7.5 response\n",
    "It only capitalizes it for the print out, it doesn't change the object in the list. \n",
    "\"\"\"\n",
    "things[1] = things[1].capitalize()\n",
    "things"
   ]
  },
  {
   "cell_type": "code",
   "execution_count": 99,
   "id": "136b1f47-180c-44c6-b597-c0ae70c7d8d3",
   "metadata": {},
   "outputs": [
    {
     "data": {
      "text/plain": [
       "['MOZZARELLA', 'Cinderella', 'salmonella']"
      ]
     },
     "execution_count": 99,
     "metadata": {},
     "output_type": "execute_result"
    }
   ],
   "source": [
    "# 7.6\n",
    "things[0] = things[0].upper()\n",
    "things"
   ]
  },
  {
   "cell_type": "code",
   "execution_count": 101,
   "id": "49ebb4d1-21a8-4f03-9664-3a7315ae494b",
   "metadata": {},
   "outputs": [
    {
     "data": {
      "text/plain": [
       "['MOZZARELLA', 'Cinderella']"
      ]
     },
     "execution_count": 101,
     "metadata": {},
     "output_type": "execute_result"
    }
   ],
   "source": [
    "# 7.7\n",
    "del things[2]\n",
    "things"
   ]
  },
  {
   "cell_type": "code",
   "execution_count": 105,
   "id": "189387d9-b710-465e-9163-212a57b14922",
   "metadata": {},
   "outputs": [
    {
     "data": {
      "text/plain": [
       "['Harry', 'Ron', 'Hermione']"
      ]
     },
     "execution_count": 105,
     "metadata": {},
     "output_type": "execute_result"
    }
   ],
   "source": [
    "# 9.1\n",
    "def good():\n",
    "    return ['Harry', 'Ron', 'Hermione']\n",
    "\n",
    "good()"
   ]
  },
  {
   "cell_type": "code",
   "execution_count": 113,
   "id": "86f61565-8c72-4554-b729-24f4d19a53df",
   "metadata": {},
   "outputs": [
    {
     "name": "stdout",
     "output_type": "stream",
     "text": [
      "5 is the third odd number\n"
     ]
    }
   ],
   "source": [
    "# 9.2\n",
    "def get_odds():\n",
    "    for number in range(1, 10, 2):\n",
    "        yield number\n",
    "\n",
    "count = 1\n",
    "for number in get_odds():\n",
    "    if count == 3:\n",
    "        print(number, \"is the third odd number\")\n",
    "        break\n",
    "    count +=1\n",
    "\n"
   ]
  },
  {
   "cell_type": "code",
   "execution_count": null,
   "id": "004f8c92-8205-4163-8e6e-54d58be8cdad",
   "metadata": {},
   "outputs": [],
   "source": []
  }
 ],
 "metadata": {
  "kernelspec": {
   "display_name": "Python 3 (ipykernel)",
   "language": "python",
   "name": "python3"
  },
  "language_info": {
   "codemirror_mode": {
    "name": "ipython",
    "version": 3
   },
   "file_extension": ".py",
   "mimetype": "text/x-python",
   "name": "python",
   "nbconvert_exporter": "python",
   "pygments_lexer": "ipython3",
   "version": "3.11.7"
  }
 },
 "nbformat": 4,
 "nbformat_minor": 5
}
